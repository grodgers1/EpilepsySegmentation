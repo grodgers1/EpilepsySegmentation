{
 "cells": [
  {
   "cell_type": "code",
   "execution_count": 7,
   "id": "ea4f9824-c2b6-4961-aaed-cdd979f01000",
   "metadata": {},
   "outputs": [],
   "source": [
    "import os\n",
    "import glob\n",
    "import math\n",
    "import shutil\n",
    "import random"
   ]
  },
  {
   "cell_type": "code",
   "execution_count": 8,
   "id": "8c76e9fd-3701-46cc-9b2b-7ae87f495330",
   "metadata": {},
   "outputs": [],
   "source": [
    "def check_makedir(thisDir):\n",
    "    if not os.path.isdir(thisDir):\n",
    "        os.mkdir(thisDir)"
   ]
  },
  {
   "cell_type": "code",
   "execution_count": 9,
   "id": "6d6a8ea4-c6fb-4d38-abde-32b40d0f06b9",
   "metadata": {},
   "outputs": [
    {
     "name": "stdout",
     "output_type": "stream",
     "text": [
      "Splitting data into train/val/test: (0.7, 0.15, 0.15)\n"
     ]
    }
   ],
   "source": [
    "# define splits\n",
    "splits = (0.7,0.15,0.15) # (0.7,0.15,0.15)\n",
    "\n",
    "assert(sum(splits)==1.0)\n",
    "\n",
    "print(f'Splitting data into train/val/test: {splits}')\n",
    "\n",
    "# path to all available labels\n",
    "BasePath = './ManuallyLabelled_v2/' #'./ManuallyLabelled_nocrop/'\n",
    "TargetPath = './UNET_v6/' #'./UNET_v6/'\n",
    "TrainDir = 'train1' #'train0'\n",
    "ValDir = 'val1' #'val0'\n",
    "TestDir = 'test1' #'test0'"
   ]
  },
  {
   "cell_type": "code",
   "execution_count": 10,
   "id": "a2c91b41-de0f-4c84-92a0-c61f74a0a765",
   "metadata": {},
   "outputs": [
    {
     "name": "stdout",
     "output_type": "stream",
     "text": [
      "Loading data from: ./ManuallyLabelled_v2/\n",
      "Writing data to: ./UNET_v6/\n",
      "subdirectories train1, val1, and test1\n"
     ]
    }
   ],
   "source": [
    "check_makedir(TargetPath)\n",
    "check_makedir(os.path.join(TargetPath,TrainDir))\n",
    "check_makedir(os.path.join(TargetPath,TrainDir,'images'))\n",
    "check_makedir(os.path.join(TargetPath,TrainDir,'masks'))\n",
    "\n",
    "check_makedir(os.path.join(TargetPath,ValDir))\n",
    "check_makedir(os.path.join(TargetPath,ValDir,'images'))\n",
    "check_makedir(os.path.join(TargetPath,ValDir,'masks'))\n",
    "\n",
    "check_makedir(os.path.join(TargetPath,TestDir))\n",
    "check_makedir(os.path.join(TargetPath,TestDir,'images'))\n",
    "check_makedir(os.path.join(TargetPath,TestDir,'masks'))\n",
    "\n",
    "\n",
    "print(f'Loading data from: {BasePath}')\n",
    "print(f'Writing data to: {TargetPath}')\n",
    "print(f'subdirectories {TrainDir}, {ValDir}, and {TestDir}')"
   ]
  },
  {
   "cell_type": "code",
   "execution_count": 12,
   "id": "c9325144-291c-46d8-a869-9a54027fd3f7",
   "metadata": {},
   "outputs": [
    {
     "name": "stdout",
     "output_type": "stream",
     "text": [
      "There are 444 manually labelled images from 14 samples\n",
      "Samples:\n",
      "['PCB17KA7drh', 'PCB16KA1dlh', 'PCB5KA14drh', 'PCB17KA7dlh', 'PCB14KA14drh', 'PCB4KA14drh', 'PCB2KA21drh_try3', 'PCB11salrh', 'PCB1KA21drh', 'PCB3KA1dlh', 'PCB3KA21drh', 'PCB4KA14dlh', 'PCB16KA1drh', 'PCB1KA21dlh_offaxis_try3']\n"
     ]
    }
   ],
   "source": [
    "ImList = os.listdir(os.path.join(BasePath,'images'))\n",
    "\n",
    "SampleList = [x[:-8] for x in ImList]\n",
    "SampleList = set(SampleList) # removes duplicates\n",
    "SampleList = list(SampleList) # list of samples\n",
    "\n",
    "print(f'There are {len(ImList)} manually labelled images from {len(SampleList)} samples')\n",
    "\n",
    "print('Samples:')\n",
    "print(SampleList)\n"
   ]
  },
  {
   "cell_type": "code",
   "execution_count": 13,
   "id": "ccc5857f-5841-4def-9a52-fa139f16acff",
   "metadata": {},
   "outputs": [
    {
     "name": "stdout",
     "output_type": "stream",
     "text": [
      "Splitting into Train: 7, Val: 1, and Test: 2\n",
      "a: ['1', '2', '3', '4', '5', '6', '7', '8', '9', '10']\n",
      "b: ['3', '4', '2', '1', '9', '8', '7', '6', '5', '10']\n",
      "Train: ['3', '4', '2', '1', '9', '8', '7']\n",
      "Val: ['6']\n",
      "Test: ['5', '10']\n",
      "Total: 10\n"
     ]
    }
   ],
   "source": [
    "# mini example of how this will work\n",
    "random.seed(5)\n",
    "\n",
    "a = ['1','2','3','4','5','6','7','8','9','10']\n",
    "numIms = len(a)\n",
    "numVal, numTest = math.floor(numIms*splits[1]), math.ceil(numIms*splits[2])\n",
    "numTrain = numIms - numVal - numTest # ensure that all images used\n",
    "print(f'Splitting into Train: {numTrain}, Val: {numVal}, and Test: {numTest}')\n",
    "\n",
    "splitIms = a.copy()\n",
    "random.shuffle(splitIms)\n",
    "print(f'a: {a}')\n",
    "print(f'b: {splitIms}')\n",
    "\n",
    "trainIms = splitIms[0:numTrain]\n",
    "print(f'Train: {trainIms}')\n",
    "\n",
    "valIms = splitIms[numTrain:numTrain+numVal]\n",
    "print(f'Val: {valIms}')\n",
    "\n",
    "testIms = splitIms[-numTest:]\n",
    "print(f'Test: {testIms}')\n",
    "\n",
    "print(f'Total: {len(trainIms)+len(valIms)+len(testIms)}')"
   ]
  },
  {
   "cell_type": "code",
   "execution_count": 14,
   "id": "eeedf38c-125f-46de-ae9f-21ddb4e15ff1",
   "metadata": {},
   "outputs": [
    {
     "name": "stdout",
     "output_type": "stream",
     "text": [
      "Sample PCB17KA7drh has 36 images\n",
      "Splitting into Train: 25, Val: 5, and Test: 6\n",
      "Sample PCB16KA1dlh has 27 images\n",
      "Splitting into Train: 18, Val: 4, and Test: 5\n",
      "Sample PCB5KA14drh has 18 images\n",
      "Splitting into Train: 13, Val: 2, and Test: 3\n",
      "Sample PCB17KA7dlh has 30 images\n",
      "Splitting into Train: 21, Val: 4, and Test: 5\n",
      "Sample PCB14KA14drh has 28 images\n",
      "Splitting into Train: 19, Val: 4, and Test: 5\n",
      "Sample PCB4KA14drh has 35 images\n",
      "Splitting into Train: 24, Val: 5, and Test: 6\n",
      "Sample PCB2KA21drh_try3 has 6 images\n",
      "Splitting into Train: 5, Val: 0, and Test: 1\n",
      "Sample PCB11salrh has 70 images\n",
      "Splitting into Train: 49, Val: 10, and Test: 11\n",
      "Sample PCB1KA21drh has 34 images\n",
      "Splitting into Train: 23, Val: 5, and Test: 6\n",
      "Sample PCB3KA1dlh has 30 images\n",
      "Splitting into Train: 21, Val: 4, and Test: 5\n",
      "Sample PCB3KA21drh has 36 images\n",
      "Splitting into Train: 25, Val: 5, and Test: 6\n",
      "Sample PCB4KA14dlh has 34 images\n",
      "Splitting into Train: 23, Val: 5, and Test: 6\n",
      "Sample PCB16KA1drh has 33 images\n",
      "Splitting into Train: 24, Val: 4, and Test: 5\n",
      "Sample PCB1KA21dlh_offaxis_try3 has 27 images\n",
      "Splitting into Train: 18, Val: 4, and Test: 5\n"
     ]
    }
   ],
   "source": [
    "random.seed(5)\n",
    "dry_run = False\n",
    "\n",
    "totTrain = []\n",
    "totTest = []\n",
    "totVal = []\n",
    "for thisSample in SampleList:\n",
    "    theseIms = glob.glob(os.path.join(BasePath,'images',thisSample + '*.png'))\n",
    "    \n",
    "    numIms = len(theseIms)\n",
    "    print(f'Sample {thisSample} has {numIms} images')\n",
    "    \n",
    "    \n",
    "    numVal, numTest = math.floor(numIms*splits[1]), math.ceil(numIms*splits[2])\n",
    "    numTrain = numIms - numVal - numTest # ensure that all images used\n",
    "    \n",
    "    print(f'Splitting into Train: {numTrain}, Val: {numVal}, and Test: {numTest}')\n",
    "    \n",
    "    splitIms = theseIms.copy()\n",
    "    random.shuffle(splitIms)\n",
    "    \n",
    "    trainIms = splitIms[0:numTrain]\n",
    "    valIms = splitIms[numTrain:numTrain+numVal]\n",
    "    testIms = splitIms[-numTest:]\n",
    "    #print(f'total ims: {len(trainIms)+len(valIms)+len(testIms)}')\n",
    "    totTrain.append(len(trainIms))\n",
    "    totTest.append(len(testIms))\n",
    "    totVal.append(len(valIms))\n",
    "    \n",
    "    for thisImage in trainIms:\n",
    "        imName = os.path.split(thisImage)[1]\n",
    "        src2 = os.path.join(BasePath,'masks',imName)\n",
    "        dst1 = os.path.join(TargetPath,TrainDir,'images',imName)\n",
    "        dst2 = os.path.join(TargetPath,TrainDir,'masks',imName)\n",
    "        \n",
    "        if not dry_run:\n",
    "            shutil.copyfile(thisImage,dst1)\n",
    "            shutil.copyfile(src2,dst2)\n",
    "    \n",
    "    for thisImage in valIms:\n",
    "        imName = os.path.split(thisImage)[1]\n",
    "        src2 = os.path.join(BasePath,'masks',imName)\n",
    "        dst1 = os.path.join(TargetPath,ValDir,'images',imName)\n",
    "        dst2 = os.path.join(TargetPath,ValDir,'masks',imName)\n",
    "        \n",
    "        if not dry_run:\n",
    "            shutil.copyfile(thisImage,dst1)\n",
    "            shutil.copyfile(src2,dst2)\n",
    "    \n",
    "    for thisImage in testIms:\n",
    "        imName = os.path.split(thisImage)[1]\n",
    "        src2 = os.path.join(BasePath,'masks',imName)\n",
    "        dst1 = os.path.join(TargetPath,TestDir,'images',imName)\n",
    "        dst2 = os.path.join(TargetPath,TestDir,'masks',imName)\n",
    "        \n",
    "        if not dry_run:\n",
    "            shutil.copyfile(thisImage,dst1)\n",
    "            shutil.copyfile(src2,dst2)"
   ]
  },
  {
   "cell_type": "code",
   "execution_count": 15,
   "id": "b17c3768-2bbc-4a8e-9359-5f285477115a",
   "metadata": {},
   "outputs": [
    {
     "name": "stdout",
     "output_type": "stream",
     "text": [
      "Total training images: 308\n",
      "Total validation images: 61\n",
      "Total testing images: 75\n"
     ]
    }
   ],
   "source": [
    "NTrain = sum(totTrain)\n",
    "NVal = sum(totVal)\n",
    "NTest = sum(totTest)\n",
    "\n",
    "print(f'Total training images: {NTrain}')\n",
    "print(f'Total validation images: {NVal}')\n",
    "print(f'Total testing images: {NTest}')"
   ]
  },
  {
   "cell_type": "code",
   "execution_count": null,
   "id": "6f985392-71ac-457f-814a-40d8b3824550",
   "metadata": {},
   "outputs": [],
   "source": []
  }
 ],
 "metadata": {
  "kernelspec": {
   "display_name": "Python 3",
   "language": "python",
   "name": "python3"
  },
  "language_info": {
   "codemirror_mode": {
    "name": "ipython",
    "version": 3
   },
   "file_extension": ".py",
   "mimetype": "text/x-python",
   "name": "python",
   "nbconvert_exporter": "python",
   "pygments_lexer": "ipython3",
   "version": "3.9.12"
  }
 },
 "nbformat": 4,
 "nbformat_minor": 5
}
